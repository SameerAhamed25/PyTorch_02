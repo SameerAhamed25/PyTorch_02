{
  "nbformat": 4,
  "nbformat_minor": 0,
  "metadata": {
    "colab": {
      "provenance": []
    },
    "kernelspec": {
      "name": "python3",
      "display_name": "Python 3"
    },
    "language_info": {
      "name": "python"
    }
  },
  "cells": [
    {
      "cell_type": "code",
      "execution_count": null,
      "metadata": {
        "id": "Qj3HioCf7U-D"
      },
      "outputs": [],
      "source": [
        "# creating a random tensor"
      ]
    },
    {
      "cell_type": "code",
      "source": [
        "import torch\n",
        "import pandas as pd\n",
        "import numpy as np"
      ],
      "metadata": {
        "id": "MnN-UBI37cnZ"
      },
      "execution_count": 2,
      "outputs": []
    },
    {
      "cell_type": "code",
      "source": [
        "random_tensor = torch.rand(6, 8, 4)\n",
        "random_tensor"
      ],
      "metadata": {
        "colab": {
          "base_uri": "https://localhost:8080/"
        },
        "id": "0sepDKMk8B6Y",
        "outputId": "b002076a-8d52-4559-844f-e17ed1a2ff08"
      },
      "execution_count": 4,
      "outputs": [
        {
          "output_type": "execute_result",
          "data": {
            "text/plain": [
              "tensor([[[0.0752, 0.1120, 0.3036, 0.6459],\n",
              "         [0.6256, 0.2737, 0.8188, 0.6209],\n",
              "         [0.2571, 0.9166, 0.3822, 0.6521],\n",
              "         [0.3344, 0.7484, 0.3415, 0.5024],\n",
              "         [0.0570, 0.2753, 0.7112, 0.4294],\n",
              "         [0.3757, 0.3473, 0.5766, 0.6885],\n",
              "         [0.6367, 0.2821, 0.0533, 0.8929],\n",
              "         [0.9524, 0.0168, 0.6352, 0.0688]],\n",
              "\n",
              "        [[0.7448, 0.5388, 0.4676, 0.7820],\n",
              "         [0.3162, 0.2150, 0.2982, 0.4834],\n",
              "         [0.3746, 0.5951, 0.9016, 0.4205],\n",
              "         [0.9661, 0.4172, 0.0061, 0.6170],\n",
              "         [0.6347, 0.2614, 0.3472, 0.1474],\n",
              "         [0.3106, 0.1989, 0.8951, 0.6194],\n",
              "         [0.9595, 0.4655, 0.9545, 0.9920],\n",
              "         [0.8868, 0.8257, 0.4869, 0.0798]],\n",
              "\n",
              "        [[0.0208, 0.8919, 0.3261, 0.7954],\n",
              "         [0.3649, 0.8662, 0.7667, 0.1004],\n",
              "         [0.8885, 0.9324, 0.7381, 0.1627],\n",
              "         [0.1766, 0.8157, 0.6938, 0.9905],\n",
              "         [0.2377, 0.6662, 0.7462, 0.8750],\n",
              "         [0.3939, 0.0923, 0.2670, 0.7434],\n",
              "         [0.5729, 0.7517, 0.8331, 0.5834],\n",
              "         [0.3816, 0.9764, 0.9661, 0.3224]],\n",
              "\n",
              "        [[0.5506, 0.4393, 0.1577, 0.6497],\n",
              "         [0.8209, 0.1735, 0.6556, 0.6289],\n",
              "         [0.7514, 0.3973, 0.3837, 0.3798],\n",
              "         [0.1046, 0.6155, 0.4647, 0.4859],\n",
              "         [0.9774, 0.2184, 0.9667, 0.9346],\n",
              "         [0.1249, 0.8587, 0.0389, 0.6331],\n",
              "         [0.2444, 0.3159, 0.6417, 0.1041],\n",
              "         [0.2930, 0.3373, 0.1738, 0.6580]],\n",
              "\n",
              "        [[0.0516, 0.9824, 0.8696, 0.8205],\n",
              "         [0.4632, 0.6879, 0.2192, 0.1190],\n",
              "         [0.9675, 0.7899, 0.2594, 0.6536],\n",
              "         [0.4344, 0.6320, 0.0629, 0.8362],\n",
              "         [0.2587, 0.2222, 0.7901, 0.1165],\n",
              "         [0.7754, 0.0569, 0.2688, 0.0067],\n",
              "         [0.7298, 0.2826, 0.3283, 0.2648],\n",
              "         [0.8505, 0.7278, 0.0556, 0.3612]],\n",
              "\n",
              "        [[0.7340, 0.6458, 0.1101, 0.2322],\n",
              "         [0.6804, 0.4171, 0.8705, 0.6094],\n",
              "         [0.5062, 0.7576, 0.1639, 0.6208],\n",
              "         [0.2848, 0.2268, 0.4703, 0.7134],\n",
              "         [0.5182, 0.5590, 0.7048, 0.6345],\n",
              "         [0.4858, 0.7635, 0.1969, 0.8057],\n",
              "         [0.5841, 0.0078, 0.1749, 0.6158],\n",
              "         [0.5757, 0.4297, 0.4122, 0.5555]]])"
            ]
          },
          "metadata": {},
          "execution_count": 4
        }
      ]
    },
    {
      "cell_type": "markdown",
      "source": [
        "Random tensors created =>\n",
        "6 * 8 * 4 =\n",
        "192"
      ],
      "metadata": {
        "id": "AqxOE2K68Ysi"
      }
    },
    {
      "cell_type": "code",
      "source": [
        "# creating random tensor equal to image tensor\n",
        "random_image_tnsr = torch.rand(size=(224, 224, 3)) #height, width, colour\n",
        "random_image_tnsr.shape, random_image_tnsr.ndim\n"
      ],
      "metadata": {
        "colab": {
          "base_uri": "https://localhost:8080/"
        },
        "id": "ud4dpnD18QCH",
        "outputId": "9cdc4314-9678-484f-b1f3-56dbd26df0ce"
      },
      "execution_count": 8,
      "outputs": [
        {
          "output_type": "execute_result",
          "data": {
            "text/plain": [
              "(torch.Size([224, 224, 3]), 3)"
            ]
          },
          "metadata": {},
          "execution_count": 8
        }
      ]
    },
    {
      "cell_type": "code",
      "source": [
        "ran_tnsr = torch.rand(2, 3, 4, 5)\n",
        "ran_tnsr, ran_tnsr.ndim"
      ],
      "metadata": {
        "colab": {
          "base_uri": "https://localhost:8080/"
        },
        "id": "Al4TVYK386Fg",
        "outputId": "9b81d7a3-2233-4ef7-ec9d-d832924f28ee"
      },
      "execution_count": 16,
      "outputs": [
        {
          "output_type": "execute_result",
          "data": {
            "text/plain": [
              "(tensor([[[[0.2410, 0.0221, 0.8670, 0.3416, 0.4692],\n",
              "           [0.0435, 0.8680, 0.5730, 0.8206, 0.5611],\n",
              "           [0.3409, 0.8820, 0.5759, 0.4903, 0.5185],\n",
              "           [0.9317, 0.3955, 0.2800, 0.0115, 0.2756]],\n",
              " \n",
              "          [[0.4861, 0.7043, 0.1411, 0.8201, 0.7399],\n",
              "           [0.8842, 0.8158, 0.2871, 0.1970, 0.5062],\n",
              "           [0.1035, 0.3046, 0.4908, 0.0253, 0.5095],\n",
              "           [0.4488, 0.4177, 0.8503, 0.2891, 0.8919]],\n",
              " \n",
              "          [[0.0399, 0.3165, 0.1850, 0.7991, 0.4429],\n",
              "           [0.5852, 0.3570, 0.9959, 0.7667, 0.0914],\n",
              "           [0.1206, 0.4581, 0.7746, 0.9612, 0.8443],\n",
              "           [0.5648, 0.8128, 0.4216, 0.9652, 0.3209]]],\n",
              " \n",
              " \n",
              "         [[[0.0085, 0.5521, 0.5208, 0.2483, 0.3407],\n",
              "           [0.0642, 0.3615, 0.3496, 0.9554, 0.2537],\n",
              "           [0.6177, 0.8107, 0.3942, 0.9166, 0.1898],\n",
              "           [0.4277, 0.2188, 0.3845, 0.8620, 0.2641]],\n",
              " \n",
              "          [[0.6676, 0.2667, 0.3866, 0.9086, 0.9458],\n",
              "           [0.6791, 0.5885, 0.6132, 0.9189, 0.5814],\n",
              "           [0.4721, 0.6184, 0.4079, 0.3520, 0.5724],\n",
              "           [0.1885, 0.0491, 0.0291, 0.7808, 0.1383]],\n",
              " \n",
              "          [[0.4956, 0.2070, 0.1192, 0.4203, 0.1421],\n",
              "           [0.8586, 0.0809, 0.8907, 0.5520, 0.1064],\n",
              "           [0.6029, 0.5979, 0.4458, 0.3247, 0.0031],\n",
              "           [0.6550, 0.4454, 0.5198, 0.5286, 0.7327]]]]),\n",
              " 4)"
            ]
          },
          "metadata": {},
          "execution_count": 16
        }
      ]
    },
    {
      "cell_type": "code",
      "source": [
        "# zeros and one, used for masking means which data we dont want the program to consider\n",
        "\n",
        "ones = torch.ones(size=(3, 3))\n",
        "zeros = torch.zeros(size=(3,3))\n",
        "zeros, ones"
      ],
      "metadata": {
        "colab": {
          "base_uri": "https://localhost:8080/"
        },
        "id": "LvLe_OkC-hEA",
        "outputId": "45506de4-346f-43af-9f25-621250b3e4f6"
      },
      "execution_count": 23,
      "outputs": [
        {
          "output_type": "execute_result",
          "data": {
            "text/plain": [
              "(tensor([[0., 0., 0.],\n",
              "         [0., 0., 0.],\n",
              "         [0., 0., 0.]]),\n",
              " tensor([[1., 1., 1.],\n",
              "         [1., 1., 1.],\n",
              "         [1., 1., 1.]]))"
            ]
          },
          "metadata": {},
          "execution_count": 23
        }
      ]
    },
    {
      "cell_type": "code",
      "source": [
        "# creating a range of tensors\n",
        "one_to_10 = torch.arange(start=1, end=11, step=1)\n",
        "\n",
        "\n",
        "# tensors-like\n",
        "\n",
        "ten_0s = torch.zeros_like(input=one_to_10)\n",
        "print(\"one_to_10's :\", one_to_10), print(\"ten_0s :\", ten_0s )"
      ],
      "metadata": {
        "colab": {
          "base_uri": "https://localhost:8080/"
        },
        "id": "4VouTbcj_oUP",
        "outputId": "37f0d5f3-ac8b-4e63-9b60-8b5ee1047a81"
      },
      "execution_count": 34,
      "outputs": [
        {
          "output_type": "stream",
          "name": "stdout",
          "text": [
            "one_to_10's : tensor([ 1,  2,  3,  4,  5,  6,  7,  8,  9, 10])\n",
            "ten_0s : tensor([0, 0, 0, 0, 0, 0, 0, 0, 0, 0])\n"
          ]
        },
        {
          "output_type": "execute_result",
          "data": {
            "text/plain": [
              "(None, None)"
            ]
          },
          "metadata": {},
          "execution_count": 34
        }
      ]
    },
    {
      "cell_type": "code",
      "source": [
        "# tensor data types\n",
        "\n",
        "# single precision =  32 bits,  half precision = 16bit,  full precision = 64bits\n",
        "\n",
        "#torch.float, torch.half, torch.double {floating points}\n",
        "\n",
        "#tensor data types are one of the 3 major errors in PyTorch and Deep Learning\n",
        "# 1. tensors not right datatypes\n",
        "# 2. tensors not right shape\n",
        "# 3. tensors not on right device\n",
        "\n",
        "# finally important parameters of tensors are 1. dtype, 2.device, 3.requires_grad\n",
        "\n",
        "Flot_tnsr = torch.tensor([3.0, 6.0, 9.0],\n",
        "                         dtype=None, #-> wt dtype is tnsr\n",
        "                         device=None, #-> wt device is ur tnsr ON\n",
        "                         requires_grad=False) #-> track gradients or not with operations\n",
        "Flot_tnsr"
      ],
      "metadata": {
        "colab": {
          "base_uri": "https://localhost:8080/"
        },
        "id": "urOeMedVBTfH",
        "outputId": "a7f27cdb-1422-4e4e-b88b-e2c735606f83"
      },
      "execution_count": 36,
      "outputs": [
        {
          "output_type": "execute_result",
          "data": {
            "text/plain": [
              "tensor([3., 6., 9.])"
            ]
          },
          "metadata": {},
          "execution_count": 36
        }
      ]
    },
    {
      "cell_type": "code",
      "source": [
        "Flot_tnsr.dtype"
      ],
      "metadata": {
        "colab": {
          "base_uri": "https://localhost:8080/"
        },
        "id": "cZdB1UFGBrqx",
        "outputId": "33afdbf2-2990-44da-ce49-68db614721ca"
      },
      "execution_count": 37,
      "outputs": [
        {
          "output_type": "execute_result",
          "data": {
            "text/plain": [
              "torch.float32"
            ]
          },
          "metadata": {},
          "execution_count": 37
        }
      ]
    },
    {
      "cell_type": "code",
      "source": [
        "#multipying 2 dtypes\n",
        "flt = torch.tensor([3, 4, 5], dtype=torch.half)\n",
        "fltt = torch.tensor([4, 5, 6], dtype=torch.float)\n",
        "\n",
        "flt*fltt"
      ],
      "metadata": {
        "colab": {
          "base_uri": "https://localhost:8080/"
        },
        "id": "Jy9Qe3bLEdee",
        "outputId": "ef203ab6-2ac2-42fe-b511-55506801ff3d"
      },
      "execution_count": 40,
      "outputs": [
        {
          "output_type": "execute_result",
          "data": {
            "text/plain": [
              "tensor([12., 20., 30.])"
            ]
          },
          "metadata": {},
          "execution_count": 40
        }
      ]
    },
    {
      "cell_type": "code",
      "source": [
        "some_tnsr = torch.rand(4, 3)\n",
        "\n",
        "#finding details of tensor and resolving the errors (3)\n",
        "print(some_tnsr)\n",
        "print(f\"Data type of tnsr : {some_tnsr.dtype}\")\n",
        "print(f\"Shape of tnsr: {some_tnsr.shape}\")\n",
        "print(f\"Device tnsr is on : {some_tnsr.device}\")"
      ],
      "metadata": {
        "colab": {
          "base_uri": "https://localhost:8080/"
        },
        "id": "QahXfJF2GU8R",
        "outputId": "8a92fcf0-27b0-42e4-ad44-b1c05c641709"
      },
      "execution_count": 42,
      "outputs": [
        {
          "output_type": "stream",
          "name": "stdout",
          "text": [
            "tensor([[0.6310, 0.1961, 0.4654],\n",
            "        [0.6824, 0.8888, 0.1429],\n",
            "        [0.2103, 0.2797, 0.4188],\n",
            "        [0.6582, 0.9830, 0.7026]])\n",
            "Data type of tnsr : torch.float32\n",
            "Shape of tnsr: torch.Size([4, 3])\n",
            "Device tnsr is on : cpu\n"
          ]
        }
      ]
    },
    {
      "cell_type": "code",
      "source": [
        "#manipulating tensors(tensor operations)\n",
        "\n",
        "#operations\n",
        "tnsr =torch.tensor([1, 2, 3])\n",
        "tnsr + 10, #-> addition"
      ],
      "metadata": {
        "colab": {
          "base_uri": "https://localhost:8080/"
        },
        "id": "dDB73fIuK6e-",
        "outputId": "5f0b3537-b467-442f-8807-e90db75376e0"
      },
      "execution_count": 46,
      "outputs": [
        {
          "output_type": "execute_result",
          "data": {
            "text/plain": [
              "(tensor([11, 12, 13]),)"
            ]
          },
          "metadata": {},
          "execution_count": 46
        }
      ]
    },
    {
      "cell_type": "code",
      "source": [
        "tnsr - 4, #-> subtraction"
      ],
      "metadata": {
        "colab": {
          "base_uri": "https://localhost:8080/"
        },
        "id": "VwczxMveKx4O",
        "outputId": "fdd7683a-0994-42c7-e2e4-665f0eda8c67"
      },
      "execution_count": 48,
      "outputs": [
        {
          "output_type": "execute_result",
          "data": {
            "text/plain": [
              "(tensor([-3, -2, -1]),)"
            ]
          },
          "metadata": {},
          "execution_count": 48
        }
      ]
    },
    {
      "cell_type": "code",
      "source": [
        "tnsr * 5 #-> multiplication"
      ],
      "metadata": {
        "colab": {
          "base_uri": "https://localhost:8080/"
        },
        "id": "-DW_9A0fMBBZ",
        "outputId": "014d313a-e1a4-419c-d60a-efef7cdfc240"
      },
      "execution_count": 49,
      "outputs": [
        {
          "output_type": "execute_result",
          "data": {
            "text/plain": [
              "tensor([ 5, 10, 15])"
            ]
          },
          "metadata": {},
          "execution_count": 49
        }
      ]
    },
    {
      "cell_type": "code",
      "source": [
        "# pytorch also have built-in functions for these operations\n",
        "torch.add(tnsr, 10), torch.mul(tnsr, 15)"
      ],
      "metadata": {
        "colab": {
          "base_uri": "https://localhost:8080/"
        },
        "id": "q0Xy9jXoMCVW",
        "outputId": "890cd27e-7d6e-4775-fa56-0231ccb8bc74"
      },
      "execution_count": 52,
      "outputs": [
        {
          "output_type": "execute_result",
          "data": {
            "text/plain": [
              "(tensor([11, 12, 13]), tensor([15, 30, 45]))"
            ]
          },
          "metadata": {},
          "execution_count": 52
        }
      ]
    },
    {
      "cell_type": "markdown",
      "source": [
        "Multiplications in ML and Deep Learning\n",
        "can be done in 2 ways\n",
        "1. element-wise\n",
        "2. matrix multiplications"
      ],
      "metadata": {
        "id": "Jo2qFVHsM3Z-"
      }
    },
    {
      "cell_type": "code",
      "source": [
        "#element wise multiplication\n",
        "print(tnsr, \"*\" , tnsr)\n",
        "print(f\"Equals : {tnsr * tnsr}\")"
      ],
      "metadata": {
        "colab": {
          "base_uri": "https://localhost:8080/"
        },
        "id": "myhDYkrSMixs",
        "outputId": "4345ea14-d465-4c2a-d4ea-b1432717aaff"
      },
      "execution_count": 55,
      "outputs": [
        {
          "output_type": "stream",
          "name": "stdout",
          "text": [
            "tensor([1, 2, 3]) * tensor([1, 2, 3])\n",
            "Equals : tensor([1, 4, 9])\n"
          ]
        }
      ]
    },
    {
      "cell_type": "code",
      "source": [
        "#-> Matrix multiplications (\"dot product\")\n",
        "%%time\n",
        "torch.matmul(tnsr, tnsr)\n"
      ],
      "metadata": {
        "colab": {
          "base_uri": "https://localhost:8080/"
        },
        "id": "0947sLMeOTs2",
        "outputId": "f8ac1201-83ce-4bb7-a1d0-976c8271de40"
      },
      "execution_count": 59,
      "outputs": [
        {
          "output_type": "stream",
          "name": "stdout",
          "text": [
            "CPU times: user 498 µs, sys: 0 ns, total: 498 µs\n",
            "Wall time: 429 µs\n"
          ]
        },
        {
          "output_type": "execute_result",
          "data": {
            "text/plain": [
              "tensor(14)"
            ]
          },
          "metadata": {},
          "execution_count": 59
        }
      ]
    },
    {
      "cell_type": "code",
      "source": [
        "# conditions to satisfy\n",
        "# @ inner dimension must match\n",
        "# 1. (3,2) @ (3, 2) -> wont work\n",
        "# 2. (3,2) @ (2, 3) -> will work\n",
        "# 3. (2,3) @ (3, 2) -> will work\n",
        "# @ Because resultant matrix has the to be the shape of outer dimensions"
      ],
      "metadata": {
        "id": "hlIBuIzDO4xn"
      },
      "execution_count": null,
      "outputs": []
    },
    {
      "cell_type": "code",
      "source": [
        "torch.matmul(torch.rand(2,3), torch.rand(3,2))"
      ],
      "metadata": {
        "colab": {
          "base_uri": "https://localhost:8080/"
        },
        "id": "PbsGwDiEQ761",
        "outputId": "1396cc8e-9d10-49d9-9895-090d3b54de0c"
      },
      "execution_count": 60,
      "outputs": [
        {
          "output_type": "execute_result",
          "data": {
            "text/plain": [
              "tensor([[1.2423, 1.5852],\n",
              "        [1.3304, 1.6688]])"
            ]
          },
          "metadata": {},
          "execution_count": 60
        }
      ]
    },
    {
      "cell_type": "code",
      "source": [
        "tnsr_a = torch.tensor([[1, 2],\n",
        "                      [3, 4],\n",
        "                      [5, 6]])\n",
        "tnsr_b = torch.tensor([[7, 10],\n",
        "                      [8, 11],\n",
        "                      [9, 12]])\n",
        "torch.mm(tnsr_a, tnsr_b)\n",
        "#we will get an error [mat1 and mat2 shapes cannot be multiplied (3x2 and 3x2)]"
      ],
      "metadata": {
        "colab": {
          "base_uri": "https://localhost:8080/",
          "height": 245
        },
        "id": "RXQdMw9MRt4w",
        "outputId": "c540d876-484d-457f-feb6-40191ae89634"
      },
      "execution_count": 65,
      "outputs": [
        {
          "output_type": "error",
          "ename": "RuntimeError",
          "evalue": "mat1 and mat2 shapes cannot be multiplied (3x2 and 3x2)",
          "traceback": [
            "\u001b[0;31m---------------------------------------------------------------------------\u001b[0m",
            "\u001b[0;31mRuntimeError\u001b[0m                              Traceback (most recent call last)",
            "\u001b[0;32m<ipython-input-65-41e0168da3cc>\u001b[0m in \u001b[0;36m<cell line: 7>\u001b[0;34m()\u001b[0m\n\u001b[1;32m      5\u001b[0m                       \u001b[0;34m[\u001b[0m\u001b[0;36m8\u001b[0m\u001b[0;34m,\u001b[0m \u001b[0;36m11\u001b[0m\u001b[0;34m]\u001b[0m\u001b[0;34m,\u001b[0m\u001b[0;34m\u001b[0m\u001b[0;34m\u001b[0m\u001b[0m\n\u001b[1;32m      6\u001b[0m                       [9, 12]])\n\u001b[0;32m----> 7\u001b[0;31m \u001b[0mtorch\u001b[0m\u001b[0;34m.\u001b[0m\u001b[0mmm\u001b[0m\u001b[0;34m(\u001b[0m\u001b[0mtnsr_a\u001b[0m\u001b[0;34m,\u001b[0m \u001b[0mtnsr_b\u001b[0m\u001b[0;34m)\u001b[0m\u001b[0;34m,\u001b[0m\u001b[0;34m\u001b[0m\u001b[0;34m\u001b[0m\u001b[0m\n\u001b[0m\u001b[1;32m      8\u001b[0m \u001b[0mtnsr_a\u001b[0m\u001b[0;34m.\u001b[0m\u001b[0mshape\u001b[0m\u001b[0;34m,\u001b[0m \u001b[0mtnsr_b\u001b[0m\u001b[0;34m.\u001b[0m\u001b[0mshape\u001b[0m\u001b[0;34m\u001b[0m\u001b[0;34m\u001b[0m\u001b[0m\n\u001b[1;32m      9\u001b[0m \u001b[0;31m#we will get an error\u001b[0m\u001b[0;34m\u001b[0m\u001b[0;34m\u001b[0m\u001b[0m\n",
            "\u001b[0;31mRuntimeError\u001b[0m: mat1 and mat2 shapes cannot be multiplied (3x2 and 3x2)"
          ]
        }
      ]
    },
    {
      "cell_type": "code",
      "source": [
        "# to solve this inner dimension problem we use transpose\n",
        "tnsr_b"
      ],
      "metadata": {
        "colab": {
          "base_uri": "https://localhost:8080/"
        },
        "id": "wq9hdQfrTF4y",
        "outputId": "eef27284-a0b5-4b49-82a4-fc2ab2f85db2"
      },
      "execution_count": 66,
      "outputs": [
        {
          "output_type": "execute_result",
          "data": {
            "text/plain": [
              "tensor([[ 7, 10],\n",
              "        [ 8, 11],\n",
              "        [ 9, 12]])"
            ]
          },
          "metadata": {},
          "execution_count": 66
        }
      ]
    },
    {
      "cell_type": "code",
      "source": [
        "#transpose [same elements are rearranged]\n",
        "tnsr_b.T"
      ],
      "metadata": {
        "colab": {
          "base_uri": "https://localhost:8080/"
        },
        "id": "IyA4OjWiTuQ9",
        "outputId": "acda19ef-d6d5-4bdd-fc75-8a37e33582a8"
      },
      "execution_count": 67,
      "outputs": [
        {
          "output_type": "execute_result",
          "data": {
            "text/plain": [
              "tensor([[ 7,  8,  9],\n",
              "        [10, 11, 12]])"
            ]
          },
          "metadata": {},
          "execution_count": 67
        }
      ]
    },
    {
      "cell_type": "code",
      "source": [
        "# example\n",
        "print(f\"original shapes: tnsr_a = {tnsr_a.shape}, tnsr_b = {tnsr_b.shape}\")\n",
        "print(f\"\\nNew shapes : tnsr_a = {tnsr_a.shape}, tnsr_b = {tnsr_b.T.shape}\")\n",
        "print(f\"\\nmultipying: {tnsr_a} @ {tnsr_b.T}\")\n",
        "print(f\"\\n output : {torch.mm(tnsr_a, tnsr_b.T)}\")\n"
      ],
      "metadata": {
        "colab": {
          "base_uri": "https://localhost:8080/"
        },
        "id": "Ax-oSckTUA96",
        "outputId": "554ca84b-493f-497f-c0ba-0258d8b6a297"
      },
      "execution_count": 71,
      "outputs": [
        {
          "output_type": "stream",
          "name": "stdout",
          "text": [
            "original shapes: tnsr_a = torch.Size([3, 2]), tnsr_b = torch.Size([3, 2])\n",
            "\n",
            "New shapes : tnsr_a = torch.Size([3, 2]), tnsr_b = torch.Size([2, 3])\n",
            "\n",
            "multipying: tensor([[1, 2],\n",
            "        [3, 4],\n",
            "        [5, 6]]) @ tensor([[ 7,  8,  9],\n",
            "        [10, 11, 12]])\n",
            "\n",
            " output : tensor([[ 27,  30,  33],\n",
            "        [ 61,  68,  75],\n",
            "        [ 95, 106, 117]])\n"
          ]
        }
      ]
    },
    {
      "cell_type": "markdown",
      "source": [
        "Tensor aggrigation :\n",
        "min, max, mean, sum, ect."
      ],
      "metadata": {
        "id": "AJpG9iWrW4-U"
      }
    },
    {
      "cell_type": "code",
      "source": [
        "## Tensor aggrigation\n",
        "\n",
        "#create tensor\n",
        "x = torch.arange(0, 100, 10)\n",
        "\n",
        "x\n"
      ],
      "metadata": {
        "colab": {
          "base_uri": "https://localhost:8080/"
        },
        "id": "D139b6VDWl-6",
        "outputId": "602829d0-3c7e-490f-ded3-3a1d0c3a011c"
      },
      "execution_count": 72,
      "outputs": [
        {
          "output_type": "execute_result",
          "data": {
            "text/plain": [
              "tensor([ 0, 10, 20, 30, 40, 50, 60, 70, 80, 90])"
            ]
          },
          "metadata": {},
          "execution_count": 72
        }
      ]
    },
    {
      "cell_type": "code",
      "source": [
        "#min\n",
        "torch.min(x)\n",
        "min(x)"
      ],
      "metadata": {
        "colab": {
          "base_uri": "https://localhost:8080/"
        },
        "id": "l9n7VFOAXeas",
        "outputId": "ba1d5782-1efa-4b0a-bfd7-e5dac45a17c4"
      },
      "execution_count": 73,
      "outputs": [
        {
          "output_type": "execute_result",
          "data": {
            "text/plain": [
              "tensor(0)"
            ]
          },
          "metadata": {},
          "execution_count": 73
        }
      ]
    },
    {
      "cell_type": "code",
      "source": [
        "#max\n",
        "torch.max(x)\n",
        "max(x)"
      ],
      "metadata": {
        "colab": {
          "base_uri": "https://localhost:8080/"
        },
        "id": "xAlbtjE_Xiuc",
        "outputId": "78b01639-8d47-4103-ecd7-60746c2059bd"
      },
      "execution_count": 74,
      "outputs": [
        {
          "output_type": "execute_result",
          "data": {
            "text/plain": [
              "tensor(90)"
            ]
          },
          "metadata": {},
          "execution_count": 74
        }
      ]
    },
    {
      "cell_type": "code",
      "source": [
        "torch.mean(x.type(torch.float)) # torch.mean requires a tensor of flot32 dtype"
      ],
      "metadata": {
        "colab": {
          "base_uri": "https://localhost:8080/"
        },
        "id": "RmD4cYCXXnc0",
        "outputId": "b7f1112c-601b-4b62-9366-8db2ca6c55b2"
      },
      "execution_count": 77,
      "outputs": [
        {
          "output_type": "execute_result",
          "data": {
            "text/plain": [
              "tensor(45.)"
            ]
          },
          "metadata": {},
          "execution_count": 77
        }
      ]
    },
    {
      "cell_type": "code",
      "source": [
        "torch.sum(x)"
      ],
      "metadata": {
        "colab": {
          "base_uri": "https://localhost:8080/"
        },
        "id": "JnZHM4JyZW87",
        "outputId": "022fd4bb-1b3c-47bc-ca94-ef8821d851d2"
      },
      "execution_count": 78,
      "outputs": [
        {
          "output_type": "execute_result",
          "data": {
            "text/plain": [
              "tensor(450)"
            ]
          },
          "metadata": {},
          "execution_count": 78
        }
      ]
    },
    {
      "cell_type": "code",
      "source": [
        "x"
      ],
      "metadata": {
        "colab": {
          "base_uri": "https://localhost:8080/"
        },
        "id": "TlLDVc4bbyom",
        "outputId": "b1de7c01-1e49-4359-dbba-8be2296ae551"
      },
      "execution_count": 79,
      "outputs": [
        {
          "output_type": "execute_result",
          "data": {
            "text/plain": [
              "tensor([ 0, 10, 20, 30, 40, 50, 60, 70, 80, 90])"
            ]
          },
          "metadata": {},
          "execution_count": 79
        }
      ]
    },
    {
      "cell_type": "code",
      "source": [
        "x.argmin() #minimum position value"
      ],
      "metadata": {
        "colab": {
          "base_uri": "https://localhost:8080/"
        },
        "id": "8ZxCboJ0b0DQ",
        "outputId": "afb25fe5-bf05-47ea-fdb6-dac59a77f6e1"
      },
      "execution_count": 82,
      "outputs": [
        {
          "output_type": "execute_result",
          "data": {
            "text/plain": [
              "tensor(0)"
            ]
          },
          "metadata": {},
          "execution_count": 82
        }
      ]
    },
    {
      "cell_type": "code",
      "source": [
        "x[1] #2nd index value is 10"
      ],
      "metadata": {
        "colab": {
          "base_uri": "https://localhost:8080/"
        },
        "id": "o6QA-H9HcJA_",
        "outputId": "18e7e63b-87d9-401c-8855-cac13664cd85"
      },
      "execution_count": 84,
      "outputs": [
        {
          "output_type": "execute_result",
          "data": {
            "text/plain": [
              "tensor(10)"
            ]
          },
          "metadata": {},
          "execution_count": 84
        }
      ]
    },
    {
      "cell_type": "markdown",
      "source": [
        "notes of the todays learning : https://www.notion.so/01-Basics-487cd1e3489e4f31b5e2db052d9dc234?pvs=4"
      ],
      "metadata": {
        "id": "m2FbB0PwgqBS"
      }
    }
  ]
}
